{
 "cells": [
  {
   "cell_type": "markdown",
   "metadata": {},
   "source": [
    "# 匹配出剪贴板中的电话号码和电子邮件，并写入剪贴板"
   ]
  },
  {
   "cell_type": "code",
   "execution_count": 23,
   "metadata": {},
   "outputs": [
    {
     "name": "stdout",
     "output_type": "stream",
     "text": [
      "Copied in clipboard.\n",
      "021-55509888\n",
      "010-88663130\n",
      "028-65292613\n",
      "020-85269240\n",
      "0755-86577855\n",
      "0571-87356341\n",
      "upr@ucloud.c\n",
      "upr@ucloud.c\n",
      "vincent.lv@ucloud.c\n",
      "vincent.lv@ucloud.c\n",
      "vincent.lv@ucloud.c\n",
      "vincent.lv@ucloud.c\n"
     ]
    }
   ],
   "source": [
    "import re,pyperclip\n",
    "#匹配电话号码\n",
    "phoneRegex=re.compile(r'''(\n",
    "    (\\d{3,4})?\n",
    "    (-)\n",
    "    (\\d{8})\n",
    ")''',re.VERBOSE)\n",
    "#匹配电子邮箱\n",
    "emailRegex=re.compile(r'''(\n",
    "    [a-zA-Z0-9._%+-]+\n",
    "    @\n",
    "    [a-zA-Z0-9.-]+\n",
    "    (\\.[a-zA-Z{2,4}])\n",
    ")''',re.VERBOSE)\n",
    "#读取复制的文本\n",
    "text=str(pyperclip.paste())\n",
    "matches=[]\n",
    "#将电话号码和电子邮件append进matches[]中\n",
    "for groups in phoneRegex.findall(text):\n",
    "    phoneNum='-'.join([groups[1],groups[3]])\n",
    "    matches.append(phoneNum)\n",
    "for groups in emailRegex.findall(text):\n",
    "    email=groups[0]\n",
    "    matches.append(email)\n",
    "#将matches[]按格式写入剪贴板\n",
    "if len(matches)>0:\n",
    "    pyperclip.copy('\\n'.join(matches))\n",
    "    print('Copied in clipboard.')\n",
    "    print('\\n'.join(matches))"
   ]
  },
  {
   "cell_type": "code",
   "execution_count": null,
   "metadata": {},
   "outputs": [],
   "source": []
  }
 ],
 "metadata": {
  "kernelspec": {
   "display_name": "Python 3",
   "language": "python",
   "name": "python3"
  },
  "language_info": {
   "codemirror_mode": {
    "name": "ipython",
    "version": 3
   },
   "file_extension": ".py",
   "mimetype": "text/x-python",
   "name": "python",
   "nbconvert_exporter": "python",
   "pygments_lexer": "ipython3",
   "version": "3.6.4"
  }
 },
 "nbformat": 4,
 "nbformat_minor": 2
}
